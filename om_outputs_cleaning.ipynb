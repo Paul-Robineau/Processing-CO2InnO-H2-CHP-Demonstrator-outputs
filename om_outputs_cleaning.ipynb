{
 "cells": [
  {
   "cell_type": "markdown",
   "id": "68c9a7fc-9803-4aac-92ca-9f181b7fe747",
   "metadata": {},
   "source": [
    "<div style=\"border: 2px solid #575757; padding: 10px; border-radius: 5px; background-color: #e1e1e1; color: black; text-align: center;\">\n",
    "  <h1 style=\"margin: 0;\">Cleaning & Extraction of OpenModelica model outputs</h1>\n",
    "</div>"
   ]
  },
  {
   "cell_type": "markdown",
   "id": "c3b5f4bb-29dd-4827-ad9a-e1e9c7f81d4b",
   "metadata": {},
   "source": [
    "<div style=\"border: 2px solid #FFA500; padding: 10px; border-radius: 5px; background-color: #FFFACD; color: black; text-align: center;\">\n",
    "  <h2 style=\"margin: 0;\">Libraries importation</h2>\n",
    "</div>"
   ]
  },
  {
   "cell_type": "markdown",
   "id": "7306a185-88fc-4db2-8d16-a0375f9b977f",
   "metadata": {},
   "source": [
    "**Import required libraries:**"
   ]
  },
  {
   "cell_type": "code",
   "execution_count": 1,
   "id": "4efb4f21-bc51-43cb-b16d-deff21270a06",
   "metadata": {},
   "outputs": [],
   "source": [
    "import os\n",
    "import pandas as pd\n",
    "from tqdm.notebook import tqdm"
   ]
  },
  {
   "cell_type": "markdown",
   "id": "ceacaf6c-7191-4e6c-98fb-26a69e380c77",
   "metadata": {},
   "source": [
    "<div style=\"border: 2px solid #FFA500; padding: 10px; border-radius: 5px; background-color: #FFFACD; color: black; text-align: center;\">\n",
    "  <h2 style=\"margin: 0;\">Cleaning of OM outputs</h2>\n",
    "</div>"
   ]
  },
  {
   "cell_type": "markdown",
   "id": "96f147a6-5fd2-4ca5-ad98-6d937aa6de71",
   "metadata": {},
   "source": [
    "**Reads all the original exported results of the OpenModelica model to clean them**\n",
    "- OpenModelica exports seems to often lead to duplicates of certain rows\n",
    "- The exports are located in the *OM_original_outputs* folder\n",
    "- The script cleans the files by suppressing them\n",
    "\n",
    "**Optional if you already have the .csv files in the \"*OM_cleaned_ouputs*\" folder**"
   ]
  },
  {
   "cell_type": "code",
   "execution_count": null,
   "id": "366a87d3-89e4-4b93-9f61-59451e095995",
   "metadata": {},
   "outputs": [],
   "source": [
    "# Define input and output folders\n",
    "input_folder = \"OM_original_outputs\"\n",
    "output_folder = \"OM_cleaned_outputs\"\n",
    "os.makedirs(output_folder, exist_ok=True)\n",
    "\n",
    "# List all CSV files in the input folder\n",
    "csv_files = [f for f in os.listdir(input_folder) if f.endswith(\".csv\")]\n",
    "\n",
    "# Process each file with progress tracking\n",
    "for file_name in tqdm(csv_files, desc=\"Cleaning CSV files\"):\n",
    "    input_file = os.path.join(input_folder, file_name)\n",
    "    output_file = os.path.join(output_folder, file_name)\n",
    "\n",
    "    try:\n",
    "        df = pd.read_csv(input_file)\n",
    "        time_column = df.columns[0]\n",
    "\n",
    "        # Filter valid time values (0 to 31536000 in 3600-second steps)\n",
    "        valid_times = set(range(0, 31536001, 3600))\n",
    "        df_filtered = df[df[time_column].isin(valid_times)]\n",
    "        df_filtered = df_filtered.drop_duplicates(subset=[time_column])\n",
    "\n",
    "        # Save the cleaned CSV\n",
    "        df_filtered.to_csv(output_file, index=False)\n",
    "    except Exception as e:\n",
    "        print(f\"❌ Error cleaning {file_name}: {e}\")\n",
    "    else:\n",
    "        print(f\"✅ Cleaned data saved to: {output_file}\")"
   ]
  },
  {
   "cell_type": "markdown",
   "id": "74ba050a-05f4-4b91-96f1-b751348e78fd",
   "metadata": {},
   "source": [
    "<div style=\"border: 2px solid #FFA500; padding: 10px; border-radius: 5px; background-color: #FFFACD; color: black; text-align: center;\">\n",
    "  <h2 style=\"margin: 0;\">Combined Electricity, H<sub>2</sub>, and Heat data extraction</h2>\n",
    "</div>"
   ]
  },
  {
   "cell_type": "markdown",
   "id": "36bc06ac-6b06-48e8-8222-74e7aa0871b3",
   "metadata": {},
   "source": [
    "**Reads all the cleaned results of the OpenModelica model to extract and classify them for further processing**\n",
    "- The \"*Balance of flows*\" Jupyter Notebook uses separate electricity, hydrogen, and heat files for simplicity\n",
    "- The datafiles are located in the *OM_cleaned_outputs* folder\n",
    "- The script extract relevant variables in the files and concatenate them into 3 relevant files for further processing\n",
    "\n",
    "**Optional if you already have the .xlsx files in the \"*OM_extracted_ouputs*\" folder**"
   ]
  },
  {
   "cell_type": "code",
   "execution_count": 2,
   "id": "ec61e816-d6cc-4d70-a341-5626ba112610",
   "metadata": {},
   "outputs": [
    {
     "data": {
      "application/vnd.jupyter.widget-view+json": {
       "model_id": "fde04ce7f65c442f8362ad63221e1137",
       "version_major": 2,
       "version_minor": 0
      },
      "text/plain": [
       "Processing CSV files:   0%|          | 0/28 [00:00<?, ?it/s]"
      ]
     },
     "metadata": {},
     "output_type": "display_data"
    },
    {
     "name": "stdout",
     "output_type": "stream",
     "text": [
      "Saving electricity data to OM_extracted_outputs\\elec_variables.xlsx...\n"
     ]
    },
    {
     "data": {
      "application/vnd.jupyter.widget-view+json": {
       "model_id": "f99afb43c2514019b7656929bf7f8038",
       "version_major": 2,
       "version_minor": 0
      },
      "text/plain": [
       "Writing electricity sheets:   0%|          | 0/11 [00:00<?, ?it/s]"
      ]
     },
     "metadata": {},
     "output_type": "display_data"
    },
    {
     "name": "stdout",
     "output_type": "stream",
     "text": [
      "Saving hydrogen data to OM_extracted_outputs\\h2_variables.xlsx...\n"
     ]
    },
    {
     "data": {
      "application/vnd.jupyter.widget-view+json": {
       "model_id": "fd39f7da6c354cbeb061f39606c366f3",
       "version_major": 2,
       "version_minor": 0
      },
      "text/plain": [
       "Writing hydrogen sheets:   0%|          | 0/23 [00:00<?, ?it/s]"
      ]
     },
     "metadata": {},
     "output_type": "display_data"
    },
    {
     "name": "stdout",
     "output_type": "stream",
     "text": [
      "Saving heat data to OM_extracted_outputs\\heat_variables.xlsx...\n"
     ]
    },
    {
     "data": {
      "application/vnd.jupyter.widget-view+json": {
       "model_id": "16aef7e000564a0e83b6de9f0a74ab7f",
       "version_major": 2,
       "version_minor": 0
      },
      "text/plain": [
       "Writing heat sheets:   0%|          | 0/7 [00:00<?, ?it/s]"
      ]
     },
     "metadata": {},
     "output_type": "display_data"
    },
    {
     "name": "stdout",
     "output_type": "stream",
     "text": [
      "✅ All results successfully saved to OM_extracted_outputs.\n"
     ]
    }
   ],
   "source": [
    "# Define input and output paths\n",
    "input_folder = \"OM_cleaned_outputs\"\n",
    "output_folder = \"OM_extracted_outputs\"\n",
    "os.makedirs(output_folder, exist_ok=True)\n",
    "\n",
    "# Prepare file list\n",
    "csv_files = [f for f in os.listdir(input_folder) if f.endswith(\".csv\")]\n",
    "\n",
    "# Initialize containers\n",
    "time_column = None\n",
    "electricity_data = {}\n",
    "electricity_load_data = []\n",
    "hydrogen_data = {}\n",
    "heat_data = {}\n",
    "heat_load_data = []\n",
    "\n",
    "# Define relevant hydrogen and additional variables\n",
    "hydrogen_extra_columns = [\n",
    "    \"results_electrical.Ppemel\",\n",
    "    \"results_electrical.Pcom\",\n",
    "    \"results_heating.m_dot_H2\",\n",
    "    \"results_heating.Pfuel\"\n",
    "]\n",
    "\n",
    "# Process files with progress bar\n",
    "for file in tqdm(csv_files, desc=\"Processing CSV files\"):\n",
    "    file_path = os.path.join(input_folder, file)\n",
    "    try:\n",
    "        df = pd.read_csv(file_path)\n",
    "\n",
    "        # Extract time column once\n",
    "        if time_column is None and 'time' in df.columns:\n",
    "            time_column = df[['time']].copy()\n",
    "\n",
    "        # ELECTRICITY\n",
    "        elec_cols = [col for col in df.columns if col.startswith(\"results_electrical.P\")]\n",
    "        for col in elec_cols:\n",
    "            category = col.split(\".\")[1]\n",
    "            electricity_data.setdefault(category, []).append(df[[col]].rename(columns={col: file}))\n",
    "\n",
    "        if \"data_Input.electricity_load\" in df.columns:\n",
    "            df_load = df[[\"data_Input.electricity_load\"]].copy()\n",
    "            df_load.columns = [file]\n",
    "            electricity_load_data.append(df_load)\n",
    "\n",
    "        # HYDROGEN\n",
    "        hydrogen_cols = [col for col in df.columns if col.startswith(\"results_hydrogen.\")]\n",
    "        additional_cols = [col for col in hydrogen_extra_columns if col in df.columns]\n",
    "        for col in hydrogen_cols + additional_cols:\n",
    "            if \".\" not in col:\n",
    "                print(f\"Skipping malformed column: {col}\")\n",
    "                continue\n",
    "\n",
    "            category = col.split(\".\")[1]\n",
    "            variable = col.split(\".\")[2] if len(col.split(\".\")) > 2 else category\n",
    "            if col == \"results_heating.m_dot_H2\":\n",
    "                variable += \"_heating\"\n",
    "\n",
    "            hydrogen_data.setdefault(variable, []).append(df[[col]].rename(columns={col: file}))\n",
    "\n",
    "        # HEAT\n",
    "        heat_cols = [col for col in df.columns if col.startswith(\"results_heating.P\") or col.startswith(\"results_heating.Q\")]\n",
    "        for col in heat_cols:\n",
    "            category = col.split(\".\")[1]\n",
    "            heat_data.setdefault(category, []).append(df[[col]].rename(columns={col: file}))\n",
    "\n",
    "        if \"data_Input.heat_load\" in df.columns:\n",
    "            df_load = df[[\"data_Input.heat_load\"]].copy()\n",
    "            df_load.columns = [file]\n",
    "            heat_load_data.append(df_load)\n",
    "\n",
    "    except Exception as e:\n",
    "        print(f\"Error processing {file}: {e}\")\n",
    "\n",
    "# Helper to write grouped data to Excel\n",
    "def write_to_excel(filepath, data_dict, extra_data=None, extra_sheet_name=None, label=\"\"):\n",
    "    print(f\"Saving {label} data to {filepath}...\")\n",
    "    with pd.ExcelWriter(filepath) as writer:\n",
    "        for category, dfs in tqdm(data_dict.items(), desc=f\"Writing {label} sheets\"):\n",
    "            df_final = pd.concat([time_column] + dfs, axis=1) if time_column is not None else pd.concat(dfs, axis=1)\n",
    "            df_final.to_excel(writer, sheet_name=category[:31], index=False)  # Excel sheet name max = 31 chars\n",
    "        if extra_data:\n",
    "            df_extra = pd.concat([time_column] + extra_data, axis=1) if time_column is not None else pd.concat(extra_data, axis=1)\n",
    "            df_extra.to_excel(writer, sheet_name=extra_sheet_name, index=False)\n",
    "\n",
    "# Save electricity\n",
    "write_to_excel(\n",
    "    os.path.join(output_folder, \"elec_variables.xlsx\"),\n",
    "    electricity_data,\n",
    "    electricity_load_data,\n",
    "    \"electricity_load\",\n",
    "    label=\"electricity\"\n",
    ")\n",
    "\n",
    "# Save hydrogen\n",
    "write_to_excel(\n",
    "    os.path.join(output_folder, \"h2_variables.xlsx\"),\n",
    "    hydrogen_data,\n",
    "    label=\"hydrogen\"\n",
    ")\n",
    "\n",
    "# Save heat\n",
    "write_to_excel(\n",
    "    os.path.join(output_folder, \"heat_variables.xlsx\"),\n",
    "    heat_data,\n",
    "    heat_load_data,\n",
    "    \"heat_load\",\n",
    "    label=\"heat\"\n",
    ")\n",
    "\n",
    "print(\"✅ All results successfully saved to OM_extracted_outputs.\")"
   ]
  },
  {
   "cell_type": "markdown",
   "id": "d3ab9c7e-86b8-451b-a7c0-3a7b50d68e94",
   "metadata": {},
   "source": [
    "<div style=\"border: 2px solid #FFA500; padding: 10px; border-radius: 5px; background-color: #FFFACD; color: black; text-align: center;\">\n",
    "  <h2 style=\"margin: 0;\">Separated Electricity, H<sub>2</sub>, and Heat data extraction</h2>\n",
    "</div>"
   ]
  },
  {
   "cell_type": "markdown",
   "id": "32ffcd81-9561-4ea0-8722-7f5462b8b54d",
   "metadata": {},
   "source": [
    "**Reads all the cleaned results of the OpenModelica model to extract and classify them for further processing**\n",
    "- The \"*Balance of flows*\" Jupyter Notebook uses separate electricity, hydrogen, and heat files for simplicity\n",
    "- The precedent script is here separated into 3 independant scripts for flexibility in use\n",
    "\n",
    "**Optional if you already have the .xlsx files in the \"*OM_extracted_ouputs*\" folder**"
   ]
  },
  {
   "cell_type": "markdown",
   "id": "c974f6dc-2107-462d-b5ef-3361e37a2b36",
   "metadata": {},
   "source": [
    "<div style=\"border: 2px solid rgba(0, 158, 115, 1); padding: 10px; border-radius: 5px; background-color: rgba(0, 158, 115, 0.3); color: black; text-align: center;\">\n",
    "  <h2 style=\"margin: 0;\">Electricity data extraction</h2>\n",
    "</div>"
   ]
  },
  {
   "cell_type": "code",
   "execution_count": 3,
   "id": "ae382a11-aea1-4d14-a6a0-4874c19ecd20",
   "metadata": {},
   "outputs": [
    {
     "name": "stdout",
     "output_type": "stream",
     "text": [
      "Results saved to OM_extracted_outputs\\elec_variables.xlsx\n"
     ]
    }
   ],
   "source": [
    "# Define input and output paths\n",
    "input_folder = \"OM_cleaned_outputs\"\n",
    "output_folder = \"OM_extracted_outputs\"\n",
    "os.makedirs(output_folder, exist_ok=True)\n",
    "output_file = os.path.join(output_folder, \"elec_variables.xlsx\")\n",
    "\n",
    "# List all CSV files in the input folder\n",
    "csv_files = [f for f in os.listdir(input_folder) if f.endswith(\".csv\")]\n",
    "\n",
    "# Initialize storage\n",
    "data_dict = {}\n",
    "time_column = None\n",
    "electricity_load_data = []\n",
    "\n",
    "# Process each CSV file\n",
    "for file in csv_files:\n",
    "    file_path = os.path.join(input_folder, file)\n",
    "    try:\n",
    "        df = pd.read_csv(file_path)\n",
    "\n",
    "        # Extract 'time' column once\n",
    "        if time_column is None and 'time' in df.columns:\n",
    "            time_column = df[['time']].copy()\n",
    "\n",
    "        # Identify electrical-related columns\n",
    "        electrical_columns = [col for col in df.columns if col.startswith(\"results_electrical.P\")]\n",
    "\n",
    "        # Extract electricity load column if present\n",
    "        if \"data_Input.electricity_load\" in df.columns:\n",
    "            df_load = df[[\"data_Input.electricity_load\"]].copy()\n",
    "            df_load.columns = [file]\n",
    "            electricity_load_data.append(df_load)\n",
    "\n",
    "        # Store electrical data by category\n",
    "        for col in electrical_columns:\n",
    "            category = col.split(\".\")[1]\n",
    "            if category not in data_dict:\n",
    "                data_dict[category] = []\n",
    "            df_col = df[[col]].copy()\n",
    "            df_col.columns = [file]\n",
    "            data_dict[category].append(df_col)\n",
    "\n",
    "    except Exception as e:\n",
    "        print(f\"Error processing {file}: {e}\")\n",
    "\n",
    "# Save to Excel\n",
    "with pd.ExcelWriter(output_file) as writer:\n",
    "    for category, dfs in data_dict.items():\n",
    "        df_final = pd.concat([time_column] + dfs, axis=1)\n",
    "        df_final.to_excel(writer, sheet_name=category, index=False)\n",
    "\n",
    "    if electricity_load_data:\n",
    "        df_load_final = pd.concat([time_column] + electricity_load_data, axis=1)\n",
    "        df_load_final.to_excel(writer, sheet_name=\"electricity_load\", index=False)\n",
    "\n",
    "print(f\"Results saved to {output_file}\")"
   ]
  },
  {
   "cell_type": "markdown",
   "id": "6e32dd02-8bfa-4aca-bda3-384ebf2a617c",
   "metadata": {},
   "source": [
    "<div style=\"border: 2px solid rgba(0, 116, 130, 1); padding: 10px; border-radius: 5px; background-color: rgba(0, 116, 130, 0.2); color: black; text-align: center;\">\n",
    "  <h2 style=\"margin: 0;\">H<sub>2</sub> data extraction</h2>\n",
    "</div>"
   ]
  },
  {
   "cell_type": "code",
   "execution_count": 4,
   "id": "9e571eaf-ee0c-4e59-a713-9d163bbbbe98",
   "metadata": {},
   "outputs": [
    {
     "name": "stdout",
     "output_type": "stream",
     "text": [
      "Results saved to OM_extracted_outputs\\h2_variables.xlsx\n"
     ]
    }
   ],
   "source": [
    "# Define input and output paths\n",
    "input_folder = \"OM_cleaned_outputs\"\n",
    "output_folder = \"OM_extracted_outputs\"\n",
    "os.makedirs(output_folder, exist_ok=True)\n",
    "output_file = os.path.join(output_folder, \"h2_variables.xlsx\")\n",
    "\n",
    "# List all CSV files in the input folder\n",
    "csv_files = [f for f in os.listdir(input_folder) if f.endswith(\".csv\")]\n",
    "\n",
    "# Initialize storage\n",
    "data_dict = {}\n",
    "time_column = None\n",
    "\n",
    "# Process each CSV file\n",
    "for file in csv_files:\n",
    "    file_path = os.path.join(input_folder, file)\n",
    "    try:\n",
    "        df = pd.read_csv(file_path)\n",
    "\n",
    "        # Extract 'time' column once\n",
    "        if time_column is None and 'time' in df.columns:\n",
    "            time_column = df[['time']].copy()\n",
    "\n",
    "        # Identify hydrogen-related and specified additional columns\n",
    "        hydrogen_columns = [col for col in df.columns if col.startswith(\"results_hydrogen.\")]\n",
    "        additional_columns = [\n",
    "            \"results_electrical.Ppemel\",\n",
    "            \"results_electrical.Pcom\",\n",
    "            \"results_heating.m_dot_H2\",\n",
    "            \"results_heating.Pfuel\"\n",
    "        ]\n",
    "        relevant_columns = [col for col in hydrogen_columns + additional_columns if col in df.columns]\n",
    "\n",
    "        for col in relevant_columns:\n",
    "            if \".\" not in col:\n",
    "                print(f\"Skipping malformed column: {col}\")\n",
    "                continue\n",
    "\n",
    "            category = col.split(\".\")[1]\n",
    "            variable = col.split(\".\")[2] if len(col.split(\".\")) > 2 else category\n",
    "\n",
    "            if col == \"results_heating.m_dot_H2\":\n",
    "                variable += \"_heating\"\n",
    "\n",
    "            if variable not in data_dict:\n",
    "                data_dict[variable] = []\n",
    "\n",
    "            df_col = df[[col]].copy()\n",
    "            df_col.columns = [file]\n",
    "            data_dict[variable].append(df_col)\n",
    "\n",
    "    except Exception as e:\n",
    "        print(f\"Error processing {file}: {e}\")\n",
    "\n",
    "# Save to Excel\n",
    "with pd.ExcelWriter(output_file) as writer:\n",
    "    for category, dfs in data_dict.items():\n",
    "        if time_column is not None:\n",
    "            df_final = pd.concat([time_column] + dfs, axis=1)\n",
    "        else:\n",
    "            df_final = pd.concat(dfs, axis=1)\n",
    "        df_final.to_excel(writer, sheet_name=category, index=False)\n",
    "\n",
    "print(f\"Results saved to {output_file}\")"
   ]
  },
  {
   "cell_type": "markdown",
   "id": "572a14e5-199b-4e0c-b134-156cf96244aa",
   "metadata": {},
   "source": [
    "<div style=\"border: 2px solid #9f8189; padding: 10px; border-radius: 5px; background-color: #ffcad4; color: black; text-align: center;\">\n",
    "  <h2 style=\"margin: 0;\">Heat data extraction</h2>\n",
    "</div>"
   ]
  },
  {
   "cell_type": "code",
   "execution_count": 5,
   "id": "22f95ce8-d230-4059-9f7f-2c28ce2e63a2",
   "metadata": {},
   "outputs": [
    {
     "name": "stdout",
     "output_type": "stream",
     "text": [
      "Results saved to OM_extracted_outputs\\heat_variables.xlsx\n"
     ]
    }
   ],
   "source": [
    "# Define input and output paths\n",
    "input_folder = \"OM_cleaned_outputs\"\n",
    "output_folder = \"OM_extracted_outputs\"\n",
    "os.makedirs(output_folder, exist_ok=True)\n",
    "output_file = os.path.join(output_folder, \"heat_variables.xlsx\")\n",
    "\n",
    "# List all CSV files in the input folder\n",
    "csv_files = [f for f in os.listdir(input_folder) if f.endswith(\".csv\")]\n",
    "\n",
    "# Initialize storage\n",
    "data_dict = {}\n",
    "time_column = None\n",
    "heat_load_data = []\n",
    "\n",
    "# Process each CSV file\n",
    "for file in csv_files:\n",
    "    file_path = os.path.join(input_folder, file)\n",
    "    try:\n",
    "        df = pd.read_csv(file_path)\n",
    "\n",
    "        # Extract 'time' column once\n",
    "        if time_column is None and 'time' in df.columns:\n",
    "            time_column = df[['time']].copy()\n",
    "\n",
    "        # Identify heat-related columns\n",
    "        heat_columns = [col for col in df.columns if col.startswith(\"results_heating.P\") or col.startswith(\"results_heating.Q\")]\n",
    "\n",
    "        # Extract heat load column if present\n",
    "        if \"data_Input.heat_load\" in df.columns:\n",
    "            df_load = df[[\"data_Input.heat_load\"]].copy()\n",
    "            df_load.columns = [file]\n",
    "            heat_load_data.append(df_load)\n",
    "\n",
    "        # Store heat data by category\n",
    "        for col in heat_columns:\n",
    "            category = col.split(\".\")[1]\n",
    "            if category not in data_dict:\n",
    "                data_dict[category] = []\n",
    "            df_col = df[[col]].copy()\n",
    "            df_col.columns = [file]\n",
    "            data_dict[category].append(df_col)\n",
    "\n",
    "    except Exception as e:\n",
    "        print(f\"Error processing {file}: {e}\")\n",
    "\n",
    "# Save to Excel\n",
    "with pd.ExcelWriter(output_file) as writer:\n",
    "    for category, dfs in data_dict.items():\n",
    "        df_final = pd.concat([time_column] + dfs, axis=1)\n",
    "        df_final.to_excel(writer, sheet_name=category, index=False)\n",
    "\n",
    "    if heat_load_data:\n",
    "        df_load_final = pd.concat([time_column] + heat_load_data, axis=1)\n",
    "        df_load_final.to_excel(writer, sheet_name=\"heat_load\", index=False)\n",
    "\n",
    "print(f\"Results saved to {output_file}\")"
   ]
  }
 ],
 "metadata": {
  "kernelspec": {
   "display_name": "Python 3 (ipykernel)",
   "language": "python",
   "name": "python3"
  },
  "language_info": {
   "codemirror_mode": {
    "name": "ipython",
    "version": 3
   },
   "file_extension": ".py",
   "mimetype": "text/x-python",
   "name": "python",
   "nbconvert_exporter": "python",
   "pygments_lexer": "ipython3",
   "version": "3.11.10"
  }
 },
 "nbformat": 4,
 "nbformat_minor": 5
}
